{
 "cells": [
  {
   "cell_type": "code",
   "execution_count": null,
   "metadata": {},
   "outputs": [],
   "source": [
    "import os\n",
    "os.environ[\"CUDA_DEVICE_ORDER\"]=\"PCI_BUS_ID\"   # see issue #152\n",
    "os.environ[\"CUDA_VISIBLE_DEVICES\"]=\"0\"\n",
    "\n",
    "from os.path import join as opj\n",
    "from omegaconf import OmegaConf\n",
    "from importlib import import_module\n",
    "import argparse\n",
    "\n",
    "import cv2\n",
    "import numpy as np\n",
    "import torch\n",
    "from torch.utils.data import DataLoader\n",
    "\n",
    "from cldm.plms_hacked import PLMSSampler\n",
    "from cldm.model import create_model\n",
    "from utils import tensor2img\n"
   ]
  },
  {
   "cell_type": "code",
   "execution_count": null,
   "metadata": {},
   "outputs": [],
   "source": [
    "def build_args():\n",
    "    class Conf:\n",
    "        config_path: str = \"configs/VITON512.yaml\"\n",
    "        model_load_path: str = None\n",
    "        batch_size: int = 2\n",
    "        data_root_dir: str = \"./data/zalando-hd-resized\"\n",
    "        repaint: bool = False\n",
    "        unpair: bool = False\n",
    "        save_dir: str = \"./samples\"\n",
    "        denoise_steps: int = 50\n",
    "        img_H: int = 256\n",
    "        img_W: int = 192\n",
    "        eta: float = 0.0\n",
    "        \n",
    "    return Conf()\n",
    "\n",
    "args = build_args()"
   ]
  },
  {
   "cell_type": "code",
   "execution_count": null,
   "metadata": {},
   "outputs": [],
   "source": [
    "batch_size = args.batch_size\n",
    "img_H = args.img_H\n",
    "img_W = args.img_W\n",
    "\n",
    "config = OmegaConf.load(args.config_path)\n",
    "config.model.params.img_H = args.img_H\n",
    "config.model.params.img_W = args.img_W\n",
    "params = config.model.params\n",
    "\n",
    "print(\"params\", params)"
   ]
  },
  {
   "cell_type": "code",
   "execution_count": null,
   "metadata": {},
   "outputs": [],
   "source": [
    "model = create_model(config_path=None, config=config)\n",
    "if args.model_load_path is not None:\n",
    "    model.load_state_dict(torch.load(args.model_load_path, map_location=\"cpu\"))\n",
    "model = model.cuda()\n",
    "model.eval()"
   ]
  },
  {
   "cell_type": "code",
   "execution_count": null,
   "metadata": {},
   "outputs": [],
   "source": [
    "sum(p.numel() for p in model.parameters())"
   ]
  },
  {
   "cell_type": "code",
   "execution_count": null,
   "metadata": {},
   "outputs": [],
   "source": [
    "sum(p.numel() for p in model.model.parameters())"
   ]
  },
  {
   "cell_type": "code",
   "execution_count": null,
   "metadata": {},
   "outputs": [],
   "source": [
    "sum(p.numel() for p in model.first_stage_model.parameters())"
   ]
  },
  {
   "cell_type": "code",
   "execution_count": null,
   "metadata": {},
   "outputs": [],
   "source": [
    "sum(p.numel() for p in model.cond_stage_model.parameters())"
   ]
  },
  {
   "cell_type": "code",
   "execution_count": null,
   "metadata": {},
   "outputs": [],
   "source": [
    "sum(p.numel() for p in model.control_model.parameters())"
   ]
  },
  {
   "cell_type": "code",
   "execution_count": null,
   "metadata": {},
   "outputs": [],
   "source": []
  },
  {
   "cell_type": "code",
   "execution_count": null,
   "metadata": {},
   "outputs": [],
   "source": [
    "sampler = PLMSSampler(model)\n",
    "dataset = getattr(import_module(\"dataset\"), config.dataset_name)(\n",
    "    data_root_dir=args.data_root_dir,\n",
    "    img_H=img_H,\n",
    "    img_W=img_W,\n",
    "    is_paired=not args.unpair,\n",
    "    is_test=True,\n",
    "    is_sorted=True\n",
    ")\n",
    "dataloader = DataLoader(dataset, num_workers=4, shuffle=False, batch_size=batch_size, pin_memory=True)\n",
    "\n",
    "shape = (4, img_H//8, img_W//8)\n",
    "print(\"shape\", shape)"
   ]
  },
  {
   "cell_type": "code",
   "execution_count": null,
   "metadata": {},
   "outputs": [],
   "source": []
  },
  {
   "cell_type": "code",
   "execution_count": null,
   "metadata": {},
   "outputs": [],
   "source": [
    "save_dir = opj(args.save_dir, \"unpair\" if args.unpair else \"pair\")\n",
    "os.makedirs(save_dir, exist_ok=True)\n",
    "for batch_idx, batch in enumerate(dataloader):\n",
    "    print(f\"{batch_idx}/{len(dataloader)}\")\n",
    "    z, c = model.get_input(batch, params.first_stage_key)\n",
    "    bs = z.shape[0]\n",
    "    c_crossattn = c[\"c_crossattn\"][0][:bs]\n",
    "    if c_crossattn.ndim == 4:\n",
    "        c_crossattn = model.get_learned_conditioning(c_crossattn)\n",
    "        c[\"c_crossattn\"] = [c_crossattn]\n",
    "    uc_cross = model.get_unconditional_conditioning(bs)\n",
    "    uc_full = {\"c_concat\": c[\"c_concat\"], \"c_crossattn\": [uc_cross]}\n",
    "    uc_full[\"first_stage_cond\"] = c[\"first_stage_cond\"]\n",
    "    for k, v in batch.items():\n",
    "        if isinstance(v, torch.Tensor):\n",
    "            batch[k] = v.cuda()\n",
    "    sampler.model.batch = batch\n",
    "\n",
    "    ts = torch.full((1,), 999, device=z.device, dtype=torch.long)\n",
    "    start_code = model.q_sample(z, ts)     \n",
    "\n",
    "    samples, _, _ = sampler.sample(\n",
    "        args.denoise_steps,\n",
    "        bs,\n",
    "        shape, \n",
    "        c,\n",
    "        x_T=start_code,\n",
    "        verbose=False,\n",
    "        eta=args.eta,\n",
    "        unconditional_conditioning=uc_full,\n",
    "    )\n",
    "\n",
    "    x_samples = model.decode_first_stage(samples)\n",
    "    for sample_idx, (x_sample, fn,  cloth_fn) in enumerate(zip(x_samples, batch['img_fn'], batch[\"cloth_fn\"])):\n",
    "        x_sample_img = tensor2img(x_sample)  # [0, 255]\n",
    "        if args.repaint:\n",
    "            repaint_agn_img = np.uint8((batch[\"image\"][sample_idx].cpu().numpy()+1)/2 * 255)   # [0,255]\n",
    "            repaint_agn_mask_img = batch[\"agn_mask\"][sample_idx].cpu().numpy()  # 0 or 1\n",
    "            x_sample_img = repaint_agn_img * repaint_agn_mask_img + x_sample_img * (1-repaint_agn_mask_img)\n",
    "            x_sample_img = np.uint8(x_sample_img)\n",
    "\n",
    "        to_path = opj(save_dir, f\"{fn.split('.')[0]}_{cloth_fn.split('.')[0]}.jpg\")\n",
    "        cv2.imwrite(to_path, x_sample_img[:,:,::-1])"
   ]
  },
  {
   "cell_type": "code",
   "execution_count": null,
   "metadata": {},
   "outputs": [],
   "source": []
  }
 ],
 "metadata": {
  "kernelspec": {
   "display_name": "test_tool",
   "language": "python",
   "name": "python3"
  },
  "language_info": {
   "codemirror_mode": {
    "name": "ipython",
    "version": 3
   },
   "file_extension": ".py",
   "mimetype": "text/x-python",
   "name": "python",
   "nbconvert_exporter": "python",
   "pygments_lexer": "ipython3",
   "version": "3.10.13"
  }
 },
 "nbformat": 4,
 "nbformat_minor": 2
}
